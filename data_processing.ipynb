{
 "cells": [
  {
   "cell_type": "code",
   "execution_count": 1,
   "metadata": {
    "collapsed": true
   },
   "outputs": [],
   "source": [
    "import numpy as np\n",
    "import pandas as pd\n",
    "import matplotlib.pyplot as plt\n",
    "%matplotlib inline\n",
    "import csv"
   ]
  },
  {
   "cell_type": "code",
   "execution_count": 2,
   "metadata": {
    "collapsed": true
   },
   "outputs": [],
   "source": [
    "headers = ['symbol', 'loss', 'make', 'fuel_type', 'aspiration', 'num_of_doors', 'body_style', \n",
    "           'drive_wheels', 'engine_location', 'wheel_base', 'length', 'width', 'height', 'curb_weight', \n",
    "           'engine_type', 'num_of_cylinders', 'engine_size', 'fuel_system', 'bore', 'stroke', \n",
    "           'compression_ratio', 'horsepower', 'peak_rpm', 'city_mpg', 'highway_mpg', 'price']\n",
    "\n",
    "autodata = pd.read_csv('https://archive.ics.uci.edu/ml/machine-learning-databases/autos/imports-85.data', \n",
    "                   header=None, names=headers, dtype=str)"
   ]
  },
  {
   "cell_type": "code",
   "execution_count": 3,
   "metadata": {
    "collapsed": true
   },
   "outputs": [],
   "source": [
    "autodata.columns = headers"
   ]
  },
  {
   "cell_type": "code",
   "execution_count": 4,
   "metadata": {},
   "outputs": [
    {
     "data": {
      "text/html": [
       "<div>\n",
       "<style scoped>\n",
       "    .dataframe tbody tr th:only-of-type {\n",
       "        vertical-align: middle;\n",
       "    }\n",
       "\n",
       "    .dataframe tbody tr th {\n",
       "        vertical-align: top;\n",
       "    }\n",
       "\n",
       "    .dataframe thead th {\n",
       "        text-align: right;\n",
       "    }\n",
       "</style>\n",
       "<table border=\"1\" class=\"dataframe\">\n",
       "  <thead>\n",
       "    <tr style=\"text-align: right;\">\n",
       "      <th></th>\n",
       "      <th>symbol</th>\n",
       "      <th>loss</th>\n",
       "      <th>make</th>\n",
       "      <th>fuel_type</th>\n",
       "      <th>aspiration</th>\n",
       "      <th>num_of_doors</th>\n",
       "      <th>body_style</th>\n",
       "      <th>drive_wheels</th>\n",
       "      <th>engine_location</th>\n",
       "      <th>wheel_base</th>\n",
       "      <th>...</th>\n",
       "      <th>engine_size</th>\n",
       "      <th>fuel_system</th>\n",
       "      <th>bore</th>\n",
       "      <th>stroke</th>\n",
       "      <th>compression_ratio</th>\n",
       "      <th>horsepower</th>\n",
       "      <th>peak_rpm</th>\n",
       "      <th>city_mpg</th>\n",
       "      <th>highway_mpg</th>\n",
       "      <th>price</th>\n",
       "    </tr>\n",
       "  </thead>\n",
       "  <tbody>\n",
       "    <tr>\n",
       "      <th>0</th>\n",
       "      <td>3</td>\n",
       "      <td>?</td>\n",
       "      <td>alfa-romero</td>\n",
       "      <td>gas</td>\n",
       "      <td>std</td>\n",
       "      <td>two</td>\n",
       "      <td>convertible</td>\n",
       "      <td>rwd</td>\n",
       "      <td>front</td>\n",
       "      <td>88.60</td>\n",
       "      <td>...</td>\n",
       "      <td>130</td>\n",
       "      <td>mpfi</td>\n",
       "      <td>3.47</td>\n",
       "      <td>2.68</td>\n",
       "      <td>9.00</td>\n",
       "      <td>111</td>\n",
       "      <td>5000</td>\n",
       "      <td>21</td>\n",
       "      <td>27</td>\n",
       "      <td>13495</td>\n",
       "    </tr>\n",
       "    <tr>\n",
       "      <th>1</th>\n",
       "      <td>3</td>\n",
       "      <td>?</td>\n",
       "      <td>alfa-romero</td>\n",
       "      <td>gas</td>\n",
       "      <td>std</td>\n",
       "      <td>two</td>\n",
       "      <td>convertible</td>\n",
       "      <td>rwd</td>\n",
       "      <td>front</td>\n",
       "      <td>88.60</td>\n",
       "      <td>...</td>\n",
       "      <td>130</td>\n",
       "      <td>mpfi</td>\n",
       "      <td>3.47</td>\n",
       "      <td>2.68</td>\n",
       "      <td>9.00</td>\n",
       "      <td>111</td>\n",
       "      <td>5000</td>\n",
       "      <td>21</td>\n",
       "      <td>27</td>\n",
       "      <td>16500</td>\n",
       "    </tr>\n",
       "    <tr>\n",
       "      <th>2</th>\n",
       "      <td>1</td>\n",
       "      <td>?</td>\n",
       "      <td>alfa-romero</td>\n",
       "      <td>gas</td>\n",
       "      <td>std</td>\n",
       "      <td>two</td>\n",
       "      <td>hatchback</td>\n",
       "      <td>rwd</td>\n",
       "      <td>front</td>\n",
       "      <td>94.50</td>\n",
       "      <td>...</td>\n",
       "      <td>152</td>\n",
       "      <td>mpfi</td>\n",
       "      <td>2.68</td>\n",
       "      <td>3.47</td>\n",
       "      <td>9.00</td>\n",
       "      <td>154</td>\n",
       "      <td>5000</td>\n",
       "      <td>19</td>\n",
       "      <td>26</td>\n",
       "      <td>16500</td>\n",
       "    </tr>\n",
       "    <tr>\n",
       "      <th>3</th>\n",
       "      <td>2</td>\n",
       "      <td>164</td>\n",
       "      <td>audi</td>\n",
       "      <td>gas</td>\n",
       "      <td>std</td>\n",
       "      <td>four</td>\n",
       "      <td>sedan</td>\n",
       "      <td>fwd</td>\n",
       "      <td>front</td>\n",
       "      <td>99.80</td>\n",
       "      <td>...</td>\n",
       "      <td>109</td>\n",
       "      <td>mpfi</td>\n",
       "      <td>3.19</td>\n",
       "      <td>3.40</td>\n",
       "      <td>10.00</td>\n",
       "      <td>102</td>\n",
       "      <td>5500</td>\n",
       "      <td>24</td>\n",
       "      <td>30</td>\n",
       "      <td>13950</td>\n",
       "    </tr>\n",
       "    <tr>\n",
       "      <th>4</th>\n",
       "      <td>2</td>\n",
       "      <td>164</td>\n",
       "      <td>audi</td>\n",
       "      <td>gas</td>\n",
       "      <td>std</td>\n",
       "      <td>four</td>\n",
       "      <td>sedan</td>\n",
       "      <td>4wd</td>\n",
       "      <td>front</td>\n",
       "      <td>99.40</td>\n",
       "      <td>...</td>\n",
       "      <td>136</td>\n",
       "      <td>mpfi</td>\n",
       "      <td>3.19</td>\n",
       "      <td>3.40</td>\n",
       "      <td>8.00</td>\n",
       "      <td>115</td>\n",
       "      <td>5500</td>\n",
       "      <td>18</td>\n",
       "      <td>22</td>\n",
       "      <td>17450</td>\n",
       "    </tr>\n",
       "  </tbody>\n",
       "</table>\n",
       "<p>5 rows × 26 columns</p>\n",
       "</div>"
      ],
      "text/plain": [
       "  symbol loss         make fuel_type aspiration num_of_doors   body_style  \\\n",
       "0      3    ?  alfa-romero       gas        std          two  convertible   \n",
       "1      3    ?  alfa-romero       gas        std          two  convertible   \n",
       "2      1    ?  alfa-romero       gas        std          two    hatchback   \n",
       "3      2  164         audi       gas        std         four        sedan   \n",
       "4      2  164         audi       gas        std         four        sedan   \n",
       "\n",
       "  drive_wheels engine_location wheel_base  ...   engine_size fuel_system  \\\n",
       "0          rwd           front      88.60  ...           130        mpfi   \n",
       "1          rwd           front      88.60  ...           130        mpfi   \n",
       "2          rwd           front      94.50  ...           152        mpfi   \n",
       "3          fwd           front      99.80  ...           109        mpfi   \n",
       "4          4wd           front      99.40  ...           136        mpfi   \n",
       "\n",
       "   bore stroke compression_ratio horsepower peak_rpm city_mpg highway_mpg  \\\n",
       "0  3.47   2.68              9.00        111     5000       21          27   \n",
       "1  3.47   2.68              9.00        111     5000       21          27   \n",
       "2  2.68   3.47              9.00        154     5000       19          26   \n",
       "3  3.19   3.40             10.00        102     5500       24          30   \n",
       "4  3.19   3.40              8.00        115     5500       18          22   \n",
       "\n",
       "   price  \n",
       "0  13495  \n",
       "1  16500  \n",
       "2  16500  \n",
       "3  13950  \n",
       "4  17450  \n",
       "\n",
       "[5 rows x 26 columns]"
      ]
     },
     "execution_count": 4,
     "metadata": {},
     "output_type": "execute_result"
    }
   ],
   "source": [
    "autodata.head()"
   ]
  },
  {
   "cell_type": "code",
   "execution_count": 5,
   "metadata": {},
   "outputs": [
    {
     "data": {
      "text/html": [
       "<div>\n",
       "<style scoped>\n",
       "    .dataframe tbody tr th:only-of-type {\n",
       "        vertical-align: middle;\n",
       "    }\n",
       "\n",
       "    .dataframe tbody tr th {\n",
       "        vertical-align: top;\n",
       "    }\n",
       "\n",
       "    .dataframe thead th {\n",
       "        text-align: right;\n",
       "    }\n",
       "</style>\n",
       "<table border=\"1\" class=\"dataframe\">\n",
       "  <thead>\n",
       "    <tr style=\"text-align: right;\">\n",
       "      <th></th>\n",
       "      <th>symbol</th>\n",
       "      <th>loss</th>\n",
       "      <th>make</th>\n",
       "      <th>fuel_type</th>\n",
       "      <th>aspiration</th>\n",
       "      <th>num_of_doors</th>\n",
       "      <th>body_style</th>\n",
       "      <th>drive_wheels</th>\n",
       "      <th>engine_location</th>\n",
       "      <th>wheel_base</th>\n",
       "      <th>...</th>\n",
       "      <th>engine_size</th>\n",
       "      <th>fuel_system</th>\n",
       "      <th>bore</th>\n",
       "      <th>stroke</th>\n",
       "      <th>compression_ratio</th>\n",
       "      <th>horsepower</th>\n",
       "      <th>peak_rpm</th>\n",
       "      <th>city_mpg</th>\n",
       "      <th>highway_mpg</th>\n",
       "      <th>price</th>\n",
       "    </tr>\n",
       "  </thead>\n",
       "  <tbody>\n",
       "    <tr>\n",
       "      <th>200</th>\n",
       "      <td>-1</td>\n",
       "      <td>95</td>\n",
       "      <td>volvo</td>\n",
       "      <td>gas</td>\n",
       "      <td>std</td>\n",
       "      <td>four</td>\n",
       "      <td>sedan</td>\n",
       "      <td>rwd</td>\n",
       "      <td>front</td>\n",
       "      <td>109.10</td>\n",
       "      <td>...</td>\n",
       "      <td>141</td>\n",
       "      <td>mpfi</td>\n",
       "      <td>3.78</td>\n",
       "      <td>3.15</td>\n",
       "      <td>9.50</td>\n",
       "      <td>114</td>\n",
       "      <td>5400</td>\n",
       "      <td>23</td>\n",
       "      <td>28</td>\n",
       "      <td>16845</td>\n",
       "    </tr>\n",
       "    <tr>\n",
       "      <th>201</th>\n",
       "      <td>-1</td>\n",
       "      <td>95</td>\n",
       "      <td>volvo</td>\n",
       "      <td>gas</td>\n",
       "      <td>turbo</td>\n",
       "      <td>four</td>\n",
       "      <td>sedan</td>\n",
       "      <td>rwd</td>\n",
       "      <td>front</td>\n",
       "      <td>109.10</td>\n",
       "      <td>...</td>\n",
       "      <td>141</td>\n",
       "      <td>mpfi</td>\n",
       "      <td>3.78</td>\n",
       "      <td>3.15</td>\n",
       "      <td>8.70</td>\n",
       "      <td>160</td>\n",
       "      <td>5300</td>\n",
       "      <td>19</td>\n",
       "      <td>25</td>\n",
       "      <td>19045</td>\n",
       "    </tr>\n",
       "    <tr>\n",
       "      <th>202</th>\n",
       "      <td>-1</td>\n",
       "      <td>95</td>\n",
       "      <td>volvo</td>\n",
       "      <td>gas</td>\n",
       "      <td>std</td>\n",
       "      <td>four</td>\n",
       "      <td>sedan</td>\n",
       "      <td>rwd</td>\n",
       "      <td>front</td>\n",
       "      <td>109.10</td>\n",
       "      <td>...</td>\n",
       "      <td>173</td>\n",
       "      <td>mpfi</td>\n",
       "      <td>3.58</td>\n",
       "      <td>2.87</td>\n",
       "      <td>8.80</td>\n",
       "      <td>134</td>\n",
       "      <td>5500</td>\n",
       "      <td>18</td>\n",
       "      <td>23</td>\n",
       "      <td>21485</td>\n",
       "    </tr>\n",
       "    <tr>\n",
       "      <th>203</th>\n",
       "      <td>-1</td>\n",
       "      <td>95</td>\n",
       "      <td>volvo</td>\n",
       "      <td>diesel</td>\n",
       "      <td>turbo</td>\n",
       "      <td>four</td>\n",
       "      <td>sedan</td>\n",
       "      <td>rwd</td>\n",
       "      <td>front</td>\n",
       "      <td>109.10</td>\n",
       "      <td>...</td>\n",
       "      <td>145</td>\n",
       "      <td>idi</td>\n",
       "      <td>3.01</td>\n",
       "      <td>3.40</td>\n",
       "      <td>23.00</td>\n",
       "      <td>106</td>\n",
       "      <td>4800</td>\n",
       "      <td>26</td>\n",
       "      <td>27</td>\n",
       "      <td>22470</td>\n",
       "    </tr>\n",
       "    <tr>\n",
       "      <th>204</th>\n",
       "      <td>-1</td>\n",
       "      <td>95</td>\n",
       "      <td>volvo</td>\n",
       "      <td>gas</td>\n",
       "      <td>turbo</td>\n",
       "      <td>four</td>\n",
       "      <td>sedan</td>\n",
       "      <td>rwd</td>\n",
       "      <td>front</td>\n",
       "      <td>109.10</td>\n",
       "      <td>...</td>\n",
       "      <td>141</td>\n",
       "      <td>mpfi</td>\n",
       "      <td>3.78</td>\n",
       "      <td>3.15</td>\n",
       "      <td>9.50</td>\n",
       "      <td>114</td>\n",
       "      <td>5400</td>\n",
       "      <td>19</td>\n",
       "      <td>25</td>\n",
       "      <td>22625</td>\n",
       "    </tr>\n",
       "  </tbody>\n",
       "</table>\n",
       "<p>5 rows × 26 columns</p>\n",
       "</div>"
      ],
      "text/plain": [
       "    symbol loss   make fuel_type aspiration num_of_doors body_style  \\\n",
       "200     -1   95  volvo       gas        std         four      sedan   \n",
       "201     -1   95  volvo       gas      turbo         four      sedan   \n",
       "202     -1   95  volvo       gas        std         four      sedan   \n",
       "203     -1   95  volvo    diesel      turbo         four      sedan   \n",
       "204     -1   95  volvo       gas      turbo         four      sedan   \n",
       "\n",
       "    drive_wheels engine_location wheel_base  ...   engine_size fuel_system  \\\n",
       "200          rwd           front     109.10  ...           141        mpfi   \n",
       "201          rwd           front     109.10  ...           141        mpfi   \n",
       "202          rwd           front     109.10  ...           173        mpfi   \n",
       "203          rwd           front     109.10  ...           145         idi   \n",
       "204          rwd           front     109.10  ...           141        mpfi   \n",
       "\n",
       "     bore stroke compression_ratio horsepower peak_rpm city_mpg highway_mpg  \\\n",
       "200  3.78   3.15              9.50        114     5400       23          28   \n",
       "201  3.78   3.15              8.70        160     5300       19          25   \n",
       "202  3.58   2.87              8.80        134     5500       18          23   \n",
       "203  3.01   3.40             23.00        106     4800       26          27   \n",
       "204  3.78   3.15              9.50        114     5400       19          25   \n",
       "\n",
       "     price  \n",
       "200  16845  \n",
       "201  19045  \n",
       "202  21485  \n",
       "203  22470  \n",
       "204  22625  \n",
       "\n",
       "[5 rows x 26 columns]"
      ]
     },
     "execution_count": 5,
     "metadata": {},
     "output_type": "execute_result"
    }
   ],
   "source": [
    "autodata.tail()"
   ]
  },
  {
   "cell_type": "code",
   "execution_count": 6,
   "metadata": {
    "collapsed": true
   },
   "outputs": [],
   "source": [
    "cat_vars = ['symboling', 'make','fuel_type','aspiration','num_of_doors','body_style','drive_wheels',\n",
    "            'engine_location','engine_type', 'num_of_cylinders','fuel_system']\n",
    "cnt_vars = [x for x in headers if x not in cat_vars]"
   ]
  },
  {
   "cell_type": "code",
   "execution_count": 7,
   "metadata": {
    "collapsed": true
   },
   "outputs": [],
   "source": [
    "autodata.replace('?', np.nan, inplace = True)\n",
    "\n",
    "as_float = ['symbol', 'loss', 'wheel_base', 'length', 'width', 'height', 'curb_weight', 'engine_size', 'bore',\n",
    "            'stroke', 'compression_ratio', 'horsepower', 'peak_rpm', 'city_mpg', 'highway_mpg', 'price']\n",
    "autodata[as_float] = autodata[as_float].astype(float)\n",
    "\n",
    "##another method### Changing the type of cnts cols to numeric from object\n",
    "###autodata.loss = pd.to_numeric(autodata.loss, errors='coerce')\n",
    "###autodata.bore = pd.to_numeric(autodata.bore, errors='coerce')\n",
    "###autodata.stroke = pd.to_numeric(autodata.stroke, errors='coerce')\n",
    "###autodata.horsepower = pd.to_numeric(autodata.horsepower, errors='coerce')\n",
    "###autodata.peak_rpm = pd.to_numeric(autodata.peak_rpm, errors='coerce')\n",
    "###autodata.price = pd.to_numeric(autodata.price, errors='coerce')"
   ]
  },
  {
   "cell_type": "code",
   "execution_count": 8,
   "metadata": {},
   "outputs": [
    {
     "data": {
      "text/plain": [
       "symbol               float64\n",
       "loss                 float64\n",
       "make                  object\n",
       "fuel_type             object\n",
       "aspiration            object\n",
       "num_of_doors          object\n",
       "body_style            object\n",
       "drive_wheels          object\n",
       "engine_location       object\n",
       "wheel_base           float64\n",
       "length               float64\n",
       "width                float64\n",
       "height               float64\n",
       "curb_weight          float64\n",
       "engine_type           object\n",
       "num_of_cylinders      object\n",
       "engine_size          float64\n",
       "fuel_system           object\n",
       "bore                 float64\n",
       "stroke               float64\n",
       "compression_ratio    float64\n",
       "horsepower           float64\n",
       "peak_rpm             float64\n",
       "city_mpg             float64\n",
       "highway_mpg          float64\n",
       "price                float64\n",
       "dtype: object"
      ]
     },
     "execution_count": 8,
     "metadata": {},
     "output_type": "execute_result"
    }
   ],
   "source": [
    "autodata.dtypes"
   ]
  },
  {
   "cell_type": "code",
   "execution_count": 9,
   "metadata": {
    "collapsed": true
   },
   "outputs": [],
   "source": [
    "# num_of_doors : categorical variable with 2 missing values : impute by max frequency\n",
    "autodata.loc[autodata.num_of_doors=='?','num_of_doors']=autodata.num_of_doors.value_counts().index[0]"
   ]
  },
  {
   "cell_type": "code",
   "execution_count": 10,
   "metadata": {
    "collapsed": true
   },
   "outputs": [],
   "source": [
    "# removing 4 entries with missing values for Price variable\n",
    "autodata = autodata[autodata.price.notnull()]"
   ]
  },
  {
   "cell_type": "code",
   "execution_count": 11,
   "metadata": {
    "collapsed": true
   },
   "outputs": [],
   "source": [
    "autodata.reset_index(drop=True, inplace=True)"
   ]
  },
  {
   "cell_type": "code",
   "execution_count": 12,
   "metadata": {},
   "outputs": [],
   "source": [
    "# imputing cnts cols\n",
    "autodata.loc[autodata.bore.isnull() , 'bore'] = autodata.bore.mean()\n",
    "autodata.loc[autodata.stroke.isnull() , 'stroke'] = autodata.stroke.mean()\n",
    "autodata.loc[autodata.horsepower.isnull() , 'horsepower'] = np.ceil(autodata.horsepower.mean())\n",
    "autodata.loc[autodata.peak_rpm.isnull() , 'peak_rpm'] = np.ceil(autodata.peak_rpm.mean())"
   ]
  },
  {
   "cell_type": "code",
   "execution_count": 13,
   "metadata": {},
   "outputs": [],
   "source": [
    "# This is not the right approach, but keeping it as of now!\n",
    "autodata.loc[autodata.loss.isnull() , 'loss'] = autodata.loss.mean()"
   ]
  },
  {
   "cell_type": "code",
   "execution_count": 14,
   "metadata": {},
   "outputs": [],
   "source": [
    "# Creating target variable on the basis of the rating of the cars\n",
    "autodata.loc[autodata.symbol<=0,'target'] = 1  # Safe car\n",
    "autodata.loc[autodata.symbol>0,'target'] = 0  # Risky car"
   ]
  },
  {
   "cell_type": "code",
   "execution_count": 15,
   "metadata": {},
   "outputs": [
    {
     "data": {
      "text/plain": [
       "<matplotlib.axes._subplots.AxesSubplot at 0x288145a71d0>"
      ]
     },
     "execution_count": 15,
     "metadata": {},
     "output_type": "execute_result"
    },
    {
     "data": {
      "image/png": "[encoded data removed]",
      "text/plain": [
       "<matplotlib.figure.Figure at 0x288143844a8>"
      ]
     },
     "metadata": {},
     "output_type": "display_data"
    }
   ],
   "source": [
    "autodata.groupby(['make','num_of_doors']).size().plot(kind='bar')"
   ]
  },
  {
   "cell_type": "code",
   "execution_count": 16,
   "metadata": {
    "collapsed": true
   },
   "outputs": [],
   "source": [
    "# Handling the Categorical variables :\n",
    "# Checking the frequencies of the Categorical variables, and labeling the entries with 'others' category which are\n",
    "#     occurring lesser than 5% of the total number of cases (as of now 201 cases)\n",
    "\n",
    "#[ 'make', 'fuel_type', 'aspiration', 'num_of_doors', 'body_style', 'drive_wheels', 'engine_location','engine_type', 'num_of_cylinders', 'fuel_system']"
   ]
  },
  {
   "cell_type": "code",
   "execution_count": 17,
   "metadata": {},
   "outputs": [
    {
     "data": {
      "text/plain": [
       "gas       181\n",
       "diesel     20\n",
       "Name: fuel_type, dtype: int64"
      ]
     },
     "execution_count": 17,
     "metadata": {},
     "output_type": "execute_result"
    }
   ],
   "source": [
    "autodata.fuel_type.value_counts()"
   ]
  },
  {
   "cell_type": "code",
   "execution_count": 18,
   "metadata": {},
   "outputs": [
    {
     "data": {
      "text/plain": [
       "std      165\n",
       "turbo     36\n",
       "Name: aspiration, dtype: int64"
      ]
     },
     "execution_count": 18,
     "metadata": {},
     "output_type": "execute_result"
    }
   ],
   "source": [
    "autodata.aspiration.value_counts()"
   ]
  },
  {
   "cell_type": "code",
   "execution_count": 19,
   "metadata": {},
   "outputs": [
    {
     "data": {
      "text/plain": [
       "four    113\n",
       "two      86\n",
       "Name: num_of_doors, dtype: int64"
      ]
     },
     "execution_count": 19,
     "metadata": {},
     "output_type": "execute_result"
    }
   ],
   "source": [
    "autodata.num_of_doors.value_counts()"
   ]
  },
  {
   "cell_type": "code",
   "execution_count": 20,
   "metadata": {},
   "outputs": [
    {
     "data": {
      "text/plain": [
       "sedan          94\n",
       "hatchback      68\n",
       "wagon          25\n",
       "hardtop         8\n",
       "convertible     6\n",
       "Name: body_style, dtype: int64"
      ]
     },
     "execution_count": 20,
     "metadata": {},
     "output_type": "execute_result"
    }
   ],
   "source": [
    "autodata.body_style.value_counts()"
   ]
  },
  {
   "cell_type": "code",
   "execution_count": 21,
   "metadata": {},
   "outputs": [
    {
     "data": {
      "text/plain": [
       "fwd    118\n",
       "rwd     75\n",
       "4wd      8\n",
       "Name: drive_wheels, dtype: int64"
      ]
     },
     "execution_count": 21,
     "metadata": {},
     "output_type": "execute_result"
    }
   ],
   "source": [
    "autodata.drive_wheels.value_counts()"
   ]
  },
  {
   "cell_type": "code",
   "execution_count": 22,
   "metadata": {},
   "outputs": [
    {
     "data": {
      "text/plain": [
       "front    198\n",
       "rear       3\n",
       "Name: engine_location, dtype: int64"
      ]
     },
     "execution_count": 22,
     "metadata": {},
     "output_type": "execute_result"
    }
   ],
   "source": [
    "autodata.engine_location.value_counts()"
   ]
  },
  {
   "cell_type": "code",
   "execution_count": 23,
   "metadata": {},
   "outputs": [
    {
     "data": {
      "text/plain": [
       "ohc      145\n",
       "ohcf      15\n",
       "ohcv      13\n",
       "l         12\n",
       "dohc      12\n",
       "rotor      4\n",
       "Name: engine_type, dtype: int64"
      ]
     },
     "execution_count": 23,
     "metadata": {},
     "output_type": "execute_result"
    }
   ],
   "source": [
    "autodata.engine_type.value_counts() "
   ]
  },
  {
   "cell_type": "code",
   "execution_count": 24,
   "metadata": {},
   "outputs": [
    {
     "data": {
      "text/plain": [
       "four      157\n",
       "six        24\n",
       "five       10\n",
       "two         4\n",
       "eight       4\n",
       "three       1\n",
       "twelve      1\n",
       "Name: num_of_cylinders, dtype: int64"
      ]
     },
     "execution_count": 24,
     "metadata": {},
     "output_type": "execute_result"
    }
   ],
   "source": [
    "autodata.num_of_cylinders.value_counts() "
   ]
  },
  {
   "cell_type": "code",
   "execution_count": 25,
   "metadata": {},
   "outputs": [
    {
     "data": {
      "text/plain": [
       "mpfi    92\n",
       "2bbl    64\n",
       "idi     20\n",
       "1bbl    11\n",
       "spdi     9\n",
       "4bbl     3\n",
       "mfi      1\n",
       "spfi     1\n",
       "Name: fuel_system, dtype: int64"
      ]
     },
     "execution_count": 25,
     "metadata": {},
     "output_type": "execute_result"
    }
   ],
   "source": [
    "autodata.fuel_system.value_counts() "
   ]
  },
  {
   "cell_type": "code",
   "execution_count": 26,
   "metadata": {},
   "outputs": [
    {
     "name": "stdout",
     "output_type": "stream",
     "text": [
      "(201, 27)\n",
      "(201, 27)\n"
     ]
    }
   ],
   "source": [
    "print (autodata.shape)\n",
    "print (autodata.shape)"
   ]
  },
  {
   "cell_type": "code",
   "execution_count": 27,
   "metadata": {
    "collapsed": true
   },
   "outputs": [],
   "source": [
    "# Dataframes for grouping mapping\n",
    "\n",
    "# Grouping variables from above observation:\n",
    "var_gp = ['make', 'body_style', 'num_of_cylinders' , 'fuel_system' ]\n",
    "# Selecting only these variables from the DataFrame\n",
    "auto_var_gp = autodata[var_gp]\n",
    "\n",
    "#auto_make\n",
    "# autodata.make.value_counts()\n",
    "make_  = ['toyota', 'nissan', 'mazda', 'mitsubishi', 'honda', 'subaru', 'volkswagen', 'volvo', 'peugot']\n",
    "others_ = ['others']*13\n",
    "make_.extend(others_)\n",
    "auto_make = pd.concat([pd.DataFrame( make_ , columns = ['make1']), \n",
    "                       pd.DataFrame( list(autodata.make.value_counts().index), columns = ['make'])], axis=1)\n",
    "\n",
    "#auto_body_style\n",
    "# autodata.body_style.value_counts()\n",
    "body_style_  = ['sedan', 'hatchback', 'wagon', 'others', 'others']\n",
    "auto_body_style = pd.concat([pd.DataFrame( body_style_ , columns = ['body_style1']), \n",
    "                       pd.DataFrame( list(autodata.body_style.value_counts().index), columns = ['body_style'])], axis=1)\n",
    "\n",
    "#auto_num_of_cylinders\n",
    "# autodata.num_of_cylinders.value_counts()\n",
    "num_of_cylinders_  = ['four', 'six', 'five', 'others', 'others','others', 'others']\n",
    "auto_num_of_cylinders = pd.concat([pd.DataFrame( num_of_cylinders_ , columns = ['num_of_cylinders1']), \n",
    "                       pd.DataFrame( list(autodata.num_of_cylinders.value_counts().index), columns = ['num_of_cylinders'])], axis=1)\n",
    "\n",
    "#auto_fuel_system\n",
    "# autodata.fuel_system.value_counts()\n",
    "fuel_system_  = ['mpfi', '2bbl', 'idi', '1bbl', 'others','others','others','others']\n",
    "auto_fuel_system = pd.concat([pd.DataFrame( fuel_system_ , columns = ['fuel_system1']), \n",
    "                       pd.DataFrame( list(autodata.fuel_system.value_counts().index), columns = ['fuel_system'])], axis=1)"
   ]
  },
  {
   "cell_type": "code",
   "execution_count": 28,
   "metadata": {
    "collapsed": true
   },
   "outputs": [],
   "source": [
    "# Map the new groups for to_be_grouped categorical variables\n",
    "auto_var_gp1 = pd.merge(auto_var_gp,auto_make, on = ['make'], how = 'left')\n",
    "auto_var_gp1 = pd.merge(auto_var_gp1,auto_body_style, on = ['body_style'], how = 'left')\n",
    "auto_var_gp1 = pd.merge(auto_var_gp1,auto_num_of_cylinders, on = ['num_of_cylinders'], how='left')\n",
    "auto_var_gp1 = pd.merge(auto_var_gp1,auto_fuel_system, on = ['fuel_system'], how='left')\n",
    "\n",
    "# pd.merge(data_var_gp,df_pw, on = ['payment_way'])['payment_way_new'].value_counts()"
   ]
  },
  {
   "cell_type": "code",
   "execution_count": 29,
   "metadata": {},
   "outputs": [
    {
     "data": {
      "text/html": [
       "<div>\n",
       "<style scoped>\n",
       "    .dataframe tbody tr th:only-of-type {\n",
       "        vertical-align: middle;\n",
       "    }\n",
       "\n",
       "    .dataframe tbody tr th {\n",
       "        vertical-align: top;\n",
       "    }\n",
       "\n",
       "    .dataframe thead th {\n",
       "        text-align: right;\n",
       "    }\n",
       "</style>\n",
       "<table border=\"1\" class=\"dataframe\">\n",
       "  <thead>\n",
       "    <tr style=\"text-align: right;\">\n",
       "      <th></th>\n",
       "      <th>make</th>\n",
       "      <th>body_style</th>\n",
       "      <th>num_of_cylinders</th>\n",
       "      <th>fuel_system</th>\n",
       "      <th>make1</th>\n",
       "      <th>body_style1</th>\n",
       "      <th>num_of_cylinders1</th>\n",
       "      <th>fuel_system1</th>\n",
       "    </tr>\n",
       "  </thead>\n",
       "  <tbody>\n",
       "    <tr>\n",
       "      <th>0</th>\n",
       "      <td>alfa-romero</td>\n",
       "      <td>convertible</td>\n",
       "      <td>four</td>\n",
       "      <td>mpfi</td>\n",
       "      <td>others</td>\n",
       "      <td>others</td>\n",
       "      <td>four</td>\n",
       "      <td>mpfi</td>\n",
       "    </tr>\n",
       "    <tr>\n",
       "      <th>1</th>\n",
       "      <td>alfa-romero</td>\n",
       "      <td>convertible</td>\n",
       "      <td>four</td>\n",
       "      <td>mpfi</td>\n",
       "      <td>others</td>\n",
       "      <td>others</td>\n",
       "      <td>four</td>\n",
       "      <td>mpfi</td>\n",
       "    </tr>\n",
       "    <tr>\n",
       "      <th>2</th>\n",
       "      <td>alfa-romero</td>\n",
       "      <td>hatchback</td>\n",
       "      <td>six</td>\n",
       "      <td>mpfi</td>\n",
       "      <td>others</td>\n",
       "      <td>hatchback</td>\n",
       "      <td>six</td>\n",
       "      <td>mpfi</td>\n",
       "    </tr>\n",
       "    <tr>\n",
       "      <th>3</th>\n",
       "      <td>audi</td>\n",
       "      <td>sedan</td>\n",
       "      <td>four</td>\n",
       "      <td>mpfi</td>\n",
       "      <td>others</td>\n",
       "      <td>sedan</td>\n",
       "      <td>four</td>\n",
       "      <td>mpfi</td>\n",
       "    </tr>\n",
       "    <tr>\n",
       "      <th>4</th>\n",
       "      <td>audi</td>\n",
       "      <td>sedan</td>\n",
       "      <td>five</td>\n",
       "      <td>mpfi</td>\n",
       "      <td>others</td>\n",
       "      <td>sedan</td>\n",
       "      <td>five</td>\n",
       "      <td>mpfi</td>\n",
       "    </tr>\n",
       "  </tbody>\n",
       "</table>\n",
       "</div>"
      ],
      "text/plain": [
       "          make   body_style num_of_cylinders fuel_system   make1 body_style1  \\\n",
       "0  alfa-romero  convertible             four        mpfi  others      others   \n",
       "1  alfa-romero  convertible             four        mpfi  others      others   \n",
       "2  alfa-romero    hatchback              six        mpfi  others   hatchback   \n",
       "3         audi        sedan             four        mpfi  others       sedan   \n",
       "4         audi        sedan             five        mpfi  others       sedan   \n",
       "\n",
       "  num_of_cylinders1 fuel_system1  \n",
       "0              four         mpfi  \n",
       "1              four         mpfi  \n",
       "2               six         mpfi  \n",
       "3              four         mpfi  \n",
       "4              five         mpfi  "
      ]
     },
     "execution_count": 29,
     "metadata": {},
     "output_type": "execute_result"
    }
   ],
   "source": [
    "auto_var_gp1.head()"
   ]
  },
  {
   "cell_type": "code",
   "execution_count": 30,
   "metadata": {},
   "outputs": [
    {
     "data": {
      "text/html": [
       "<div>\n",
       "<style scoped>\n",
       "    .dataframe tbody tr th:only-of-type {\n",
       "        vertical-align: middle;\n",
       "    }\n",
       "\n",
       "    .dataframe tbody tr th {\n",
       "        vertical-align: top;\n",
       "    }\n",
       "\n",
       "    .dataframe thead th {\n",
       "        text-align: right;\n",
       "    }\n",
       "</style>\n",
       "<table border=\"1\" class=\"dataframe\">\n",
       "  <thead>\n",
       "    <tr style=\"text-align: right;\">\n",
       "      <th></th>\n",
       "      <th>make</th>\n",
       "      <th>body_style</th>\n",
       "      <th>num_of_cylinders</th>\n",
       "      <th>fuel_system</th>\n",
       "      <th>make1</th>\n",
       "      <th>body_style1</th>\n",
       "      <th>num_of_cylinders1</th>\n",
       "      <th>fuel_system1</th>\n",
       "    </tr>\n",
       "  </thead>\n",
       "  <tbody>\n",
       "    <tr>\n",
       "      <th>196</th>\n",
       "      <td>volvo</td>\n",
       "      <td>sedan</td>\n",
       "      <td>four</td>\n",
       "      <td>mpfi</td>\n",
       "      <td>volvo</td>\n",
       "      <td>sedan</td>\n",
       "      <td>four</td>\n",
       "      <td>mpfi</td>\n",
       "    </tr>\n",
       "    <tr>\n",
       "      <th>197</th>\n",
       "      <td>volvo</td>\n",
       "      <td>sedan</td>\n",
       "      <td>four</td>\n",
       "      <td>mpfi</td>\n",
       "      <td>volvo</td>\n",
       "      <td>sedan</td>\n",
       "      <td>four</td>\n",
       "      <td>mpfi</td>\n",
       "    </tr>\n",
       "    <tr>\n",
       "      <th>198</th>\n",
       "      <td>volvo</td>\n",
       "      <td>sedan</td>\n",
       "      <td>six</td>\n",
       "      <td>mpfi</td>\n",
       "      <td>volvo</td>\n",
       "      <td>sedan</td>\n",
       "      <td>six</td>\n",
       "      <td>mpfi</td>\n",
       "    </tr>\n",
       "    <tr>\n",
       "      <th>199</th>\n",
       "      <td>volvo</td>\n",
       "      <td>sedan</td>\n",
       "      <td>six</td>\n",
       "      <td>idi</td>\n",
       "      <td>volvo</td>\n",
       "      <td>sedan</td>\n",
       "      <td>six</td>\n",
       "      <td>idi</td>\n",
       "    </tr>\n",
       "    <tr>\n",
       "      <th>200</th>\n",
       "      <td>volvo</td>\n",
       "      <td>sedan</td>\n",
       "      <td>four</td>\n",
       "      <td>mpfi</td>\n",
       "      <td>volvo</td>\n",
       "      <td>sedan</td>\n",
       "      <td>four</td>\n",
       "      <td>mpfi</td>\n",
       "    </tr>\n",
       "  </tbody>\n",
       "</table>\n",
       "</div>"
      ],
      "text/plain": [
       "      make body_style num_of_cylinders fuel_system  make1 body_style1  \\\n",
       "196  volvo      sedan             four        mpfi  volvo       sedan   \n",
       "197  volvo      sedan             four        mpfi  volvo       sedan   \n",
       "198  volvo      sedan              six        mpfi  volvo       sedan   \n",
       "199  volvo      sedan              six         idi  volvo       sedan   \n",
       "200  volvo      sedan             four        mpfi  volvo       sedan   \n",
       "\n",
       "    num_of_cylinders1 fuel_system1  \n",
       "196              four         mpfi  \n",
       "197              four         mpfi  \n",
       "198               six         mpfi  \n",
       "199               six          idi  \n",
       "200              four         mpfi  "
      ]
     },
     "execution_count": 30,
     "metadata": {},
     "output_type": "execute_result"
    }
   ],
   "source": [
    "auto_var_gp1.tail()"
   ]
  },
  {
   "cell_type": "code",
   "execution_count": 31,
   "metadata": {},
   "outputs": [
    {
     "data": {
      "text/plain": [
       "Index(['make', 'body_style', 'num_of_cylinders', 'fuel_system', 'make1',\n",
       "       'body_style1', 'num_of_cylinders1', 'fuel_system1'],\n",
       "      dtype='object')"
      ]
     },
     "execution_count": 31,
     "metadata": {},
     "output_type": "execute_result"
    }
   ],
   "source": [
    "auto_var_gp1.columns"
   ]
  },
  {
   "cell_type": "code",
   "execution_count": 32,
   "metadata": {},
   "outputs": [
    {
     "data": {
      "text/plain": [
       "Int64Index([  0,   1,   2,   3,   4,   5,   6,   7,   8,   9,\n",
       "            ...\n",
       "            191, 192, 193, 194, 195, 196, 197, 198, 199, 200],\n",
       "           dtype='int64', length=201)"
      ]
     },
     "execution_count": 32,
     "metadata": {},
     "output_type": "execute_result"
    }
   ],
   "source": [
    "auto_var_gp1.index"
   ]
  },
  {
   "cell_type": "code",
   "execution_count": null,
   "metadata": {
    "collapsed": true
   },
   "outputs": [],
   "source": []
  },
  {
   "cell_type": "code",
   "execution_count": 33,
   "metadata": {
    "collapsed": true
   },
   "outputs": [],
   "source": [
    "# Keep only new grouped categories\n",
    "auto_var_gp1 = auto_var_gp1.drop(auto_var_gp.columns, axis=1,errors='ignore')\n",
    "\n",
    "# Keep old column names for new grouped variables\n",
    "auto_var_gp1.columns = auto_var_gp.columns\n",
    "\n",
    "# Replace old to_be_grouped variables with the new grouping variables\n",
    "autodata[var_gp] = auto_var_gp1"
   ]
  },
  {
   "cell_type": "code",
   "execution_count": 34,
   "metadata": {
    "collapsed": true
   },
   "outputs": [],
   "source": [
    "auto1 = autodata\n",
    "# Saving DF before split into dummies in another DF for any exploration"
   ]
  },
  {
   "cell_type": "code",
   "execution_count": 35,
   "metadata": {},
   "outputs": [
    {
     "name": "stdout",
     "output_type": "stream",
     "text": [
      "<class 'pandas.core.frame.DataFrame'>\n",
      "RangeIndex: 201 entries, 0 to 200\n",
      "Data columns (total 27 columns):\n",
      "symbol               201 non-null float64\n",
      "loss                 201 non-null float64\n",
      "make                 201 non-null object\n",
      "fuel_type            201 non-null object\n",
      "aspiration           201 non-null object\n",
      "num_of_doors         199 non-null object\n",
      "body_style           201 non-null object\n",
      "drive_wheels         201 non-null object\n",
      "engine_location      201 non-null object\n",
      "wheel_base           201 non-null float64\n",
      "length               201 non-null float64\n",
      "width                201 non-null float64\n",
      "height               201 non-null float64\n",
      "curb_weight          201 non-null float64\n",
      "engine_type          201 non-null object\n",
      "num_of_cylinders     201 non-null object\n",
      "engine_size          201 non-null float64\n",
      "fuel_system          201 non-null object\n",
      "bore                 201 non-null float64\n",
      "stroke               201 non-null float64\n",
      "compression_ratio    201 non-null float64\n",
      "horsepower           201 non-null float64\n",
      "peak_rpm             201 non-null float64\n",
      "city_mpg             201 non-null float64\n",
      "highway_mpg          201 non-null float64\n",
      "price                201 non-null float64\n",
      "target               201 non-null float64\n",
      "dtypes: float64(17), object(10)\n",
      "memory usage: 42.5+ KB\n"
     ]
    }
   ],
   "source": [
    "autodata.info()"
   ]
  },
  {
   "cell_type": "code",
   "execution_count": 36,
   "metadata": {},
   "outputs": [
    {
     "data": {
      "text/html": [
       "<div>\n",
       "<style scoped>\n",
       "    .dataframe tbody tr th:only-of-type {\n",
       "        vertical-align: middle;\n",
       "    }\n",
       "\n",
       "    .dataframe tbody tr th {\n",
       "        vertical-align: top;\n",
       "    }\n",
       "\n",
       "    .dataframe thead th {\n",
       "        text-align: right;\n",
       "    }\n",
       "</style>\n",
       "<table border=\"1\" class=\"dataframe\">\n",
       "  <thead>\n",
       "    <tr style=\"text-align: right;\">\n",
       "      <th></th>\n",
       "      <th>symbol</th>\n",
       "      <th>loss</th>\n",
       "      <th>wheel_base</th>\n",
       "      <th>length</th>\n",
       "      <th>width</th>\n",
       "      <th>height</th>\n",
       "      <th>curb_weight</th>\n",
       "      <th>engine_size</th>\n",
       "      <th>bore</th>\n",
       "      <th>stroke</th>\n",
       "      <th>compression_ratio</th>\n",
       "      <th>horsepower</th>\n",
       "      <th>peak_rpm</th>\n",
       "      <th>city_mpg</th>\n",
       "      <th>highway_mpg</th>\n",
       "      <th>price</th>\n",
       "      <th>target</th>\n",
       "    </tr>\n",
       "  </thead>\n",
       "  <tbody>\n",
       "    <tr>\n",
       "      <th>count</th>\n",
       "      <td>201.000000</td>\n",
       "      <td>201.00000</td>\n",
       "      <td>201.000000</td>\n",
       "      <td>201.000000</td>\n",
       "      <td>201.000000</td>\n",
       "      <td>201.000000</td>\n",
       "      <td>201.000000</td>\n",
       "      <td>201.000000</td>\n",
       "      <td>201.000000</td>\n",
       "      <td>201.000000</td>\n",
       "      <td>201.000000</td>\n",
       "      <td>201.000000</td>\n",
       "      <td>201.00000</td>\n",
       "      <td>201.000000</td>\n",
       "      <td>201.000000</td>\n",
       "      <td>201.000000</td>\n",
       "      <td>201.000000</td>\n",
       "    </tr>\n",
       "    <tr>\n",
       "      <th>mean</th>\n",
       "      <td>0.840796</td>\n",
       "      <td>122.00000</td>\n",
       "      <td>98.797015</td>\n",
       "      <td>174.200995</td>\n",
       "      <td>65.889055</td>\n",
       "      <td>53.766667</td>\n",
       "      <td>2555.666667</td>\n",
       "      <td>126.875622</td>\n",
       "      <td>3.330711</td>\n",
       "      <td>3.256904</td>\n",
       "      <td>10.164279</td>\n",
       "      <td>103.402985</td>\n",
       "      <td>5117.59204</td>\n",
       "      <td>25.179104</td>\n",
       "      <td>30.686567</td>\n",
       "      <td>13207.129353</td>\n",
       "      <td>0.447761</td>\n",
       "    </tr>\n",
       "    <tr>\n",
       "      <th>std</th>\n",
       "      <td>1.254802</td>\n",
       "      <td>31.99625</td>\n",
       "      <td>6.066366</td>\n",
       "      <td>12.322175</td>\n",
       "      <td>2.101471</td>\n",
       "      <td>2.447822</td>\n",
       "      <td>517.296727</td>\n",
       "      <td>41.546834</td>\n",
       "      <td>0.268072</td>\n",
       "      <td>0.316048</td>\n",
       "      <td>4.004965</td>\n",
       "      <td>37.365650</td>\n",
       "      <td>478.11318</td>\n",
       "      <td>6.423220</td>\n",
       "      <td>6.815150</td>\n",
       "      <td>7947.066342</td>\n",
       "      <td>0.498505</td>\n",
       "    </tr>\n",
       "    <tr>\n",
       "      <th>min</th>\n",
       "      <td>-2.000000</td>\n",
       "      <td>65.00000</td>\n",
       "      <td>86.600000</td>\n",
       "      <td>141.100000</td>\n",
       "      <td>60.300000</td>\n",
       "      <td>47.800000</td>\n",
       "      <td>1488.000000</td>\n",
       "      <td>61.000000</td>\n",
       "      <td>2.540000</td>\n",
       "      <td>2.070000</td>\n",
       "      <td>7.000000</td>\n",
       "      <td>48.000000</td>\n",
       "      <td>4150.00000</td>\n",
       "      <td>13.000000</td>\n",
       "      <td>16.000000</td>\n",
       "      <td>5118.000000</td>\n",
       "      <td>0.000000</td>\n",
       "    </tr>\n",
       "    <tr>\n",
       "      <th>25%</th>\n",
       "      <td>0.000000</td>\n",
       "      <td>101.00000</td>\n",
       "      <td>94.500000</td>\n",
       "      <td>166.800000</td>\n",
       "      <td>64.100000</td>\n",
       "      <td>52.000000</td>\n",
       "      <td>2169.000000</td>\n",
       "      <td>98.000000</td>\n",
       "      <td>3.150000</td>\n",
       "      <td>3.110000</td>\n",
       "      <td>8.600000</td>\n",
       "      <td>70.000000</td>\n",
       "      <td>4800.00000</td>\n",
       "      <td>19.000000</td>\n",
       "      <td>25.000000</td>\n",
       "      <td>7775.000000</td>\n",
       "      <td>0.000000</td>\n",
       "    </tr>\n",
       "    <tr>\n",
       "      <th>50%</th>\n",
       "      <td>1.000000</td>\n",
       "      <td>122.00000</td>\n",
       "      <td>97.000000</td>\n",
       "      <td>173.200000</td>\n",
       "      <td>65.500000</td>\n",
       "      <td>54.100000</td>\n",
       "      <td>2414.000000</td>\n",
       "      <td>120.000000</td>\n",
       "      <td>3.310000</td>\n",
       "      <td>3.290000</td>\n",
       "      <td>9.000000</td>\n",
       "      <td>95.000000</td>\n",
       "      <td>5118.00000</td>\n",
       "      <td>24.000000</td>\n",
       "      <td>30.000000</td>\n",
       "      <td>10295.000000</td>\n",
       "      <td>0.000000</td>\n",
       "    </tr>\n",
       "    <tr>\n",
       "      <th>75%</th>\n",
       "      <td>2.000000</td>\n",
       "      <td>137.00000</td>\n",
       "      <td>102.400000</td>\n",
       "      <td>183.500000</td>\n",
       "      <td>66.600000</td>\n",
       "      <td>55.500000</td>\n",
       "      <td>2926.000000</td>\n",
       "      <td>141.000000</td>\n",
       "      <td>3.580000</td>\n",
       "      <td>3.410000</td>\n",
       "      <td>9.400000</td>\n",
       "      <td>116.000000</td>\n",
       "      <td>5500.00000</td>\n",
       "      <td>30.000000</td>\n",
       "      <td>34.000000</td>\n",
       "      <td>16500.000000</td>\n",
       "      <td>1.000000</td>\n",
       "    </tr>\n",
       "    <tr>\n",
       "      <th>max</th>\n",
       "      <td>3.000000</td>\n",
       "      <td>256.00000</td>\n",
       "      <td>120.900000</td>\n",
       "      <td>208.100000</td>\n",
       "      <td>72.000000</td>\n",
       "      <td>59.800000</td>\n",
       "      <td>4066.000000</td>\n",
       "      <td>326.000000</td>\n",
       "      <td>3.940000</td>\n",
       "      <td>4.170000</td>\n",
       "      <td>23.000000</td>\n",
       "      <td>262.000000</td>\n",
       "      <td>6600.00000</td>\n",
       "      <td>49.000000</td>\n",
       "      <td>54.000000</td>\n",
       "      <td>45400.000000</td>\n",
       "      <td>1.000000</td>\n",
       "    </tr>\n",
       "  </tbody>\n",
       "</table>\n",
       "</div>"
      ],
      "text/plain": [
       "           symbol       loss  wheel_base      length       width      height  \\\n",
       "count  201.000000  201.00000  201.000000  201.000000  201.000000  201.000000   \n",
       "mean     0.840796  122.00000   98.797015  174.200995   65.889055   53.766667   \n",
       "std      1.254802   31.99625    6.066366   12.322175    2.101471    2.447822   \n",
       "min     -2.000000   65.00000   86.600000  141.100000   60.300000   47.800000   \n",
       "25%      0.000000  101.00000   94.500000  166.800000   64.100000   52.000000   \n",
       "50%      1.000000  122.00000   97.000000  173.200000   65.500000   54.100000   \n",
       "75%      2.000000  137.00000  102.400000  183.500000   66.600000   55.500000   \n",
       "max      3.000000  256.00000  120.900000  208.100000   72.000000   59.800000   \n",
       "\n",
       "       curb_weight  engine_size        bore      stroke  compression_ratio  \\\n",
       "count   201.000000   201.000000  201.000000  201.000000         201.000000   \n",
       "mean   2555.666667   126.875622    3.330711    3.256904          10.164279   \n",
       "std     517.296727    41.546834    0.268072    0.316048           4.004965   \n",
       "min    1488.000000    61.000000    2.540000    2.070000           7.000000   \n",
       "25%    2169.000000    98.000000    3.150000    3.110000           8.600000   \n",
       "50%    2414.000000   120.000000    3.310000    3.290000           9.000000   \n",
       "75%    2926.000000   141.000000    3.580000    3.410000           9.400000   \n",
       "max    4066.000000   326.000000    3.940000    4.170000          23.000000   \n",
       "\n",
       "       horsepower    peak_rpm    city_mpg  highway_mpg         price  \\\n",
       "count  201.000000   201.00000  201.000000   201.000000    201.000000   \n",
       "mean   103.402985  5117.59204   25.179104    30.686567  13207.129353   \n",
       "std     37.365650   478.11318    6.423220     6.815150   7947.066342   \n",
       "min     48.000000  4150.00000   13.000000    16.000000   5118.000000   \n",
       "25%     70.000000  4800.00000   19.000000    25.000000   7775.000000   \n",
       "50%     95.000000  5118.00000   24.000000    30.000000  10295.000000   \n",
       "75%    116.000000  5500.00000   30.000000    34.000000  16500.000000   \n",
       "max    262.000000  6600.00000   49.000000    54.000000  45400.000000   \n",
       "\n",
       "           target  \n",
       "count  201.000000  \n",
       "mean     0.447761  \n",
       "std      0.498505  \n",
       "min      0.000000  \n",
       "25%      0.000000  \n",
       "50%      0.000000  \n",
       "75%      1.000000  \n",
       "max      1.000000  "
      ]
     },
     "execution_count": 36,
     "metadata": {},
     "output_type": "execute_result"
    }
   ],
   "source": [
    "autodata.describe()"
   ]
  },
  {
   "cell_type": "code",
   "execution_count": 37,
   "metadata": {},
   "outputs": [
    {
     "name": "stdout",
     "output_type": "stream",
     "text": [
      "<class 'pandas.core.frame.DataFrame'>\n",
      "RangeIndex: 201 entries, 0 to 200\n",
      "Data columns (total 57 columns):\n",
      "symbol                     201 non-null float64\n",
      "loss                       201 non-null float64\n",
      "wheel_base                 201 non-null float64\n",
      "length                     201 non-null float64\n",
      "width                      201 non-null float64\n",
      "height                     201 non-null float64\n",
      "curb_weight                201 non-null float64\n",
      "engine_size                201 non-null float64\n",
      "bore                       201 non-null float64\n",
      "stroke                     201 non-null float64\n",
      "compression_ratio          201 non-null float64\n",
      "horsepower                 201 non-null float64\n",
      "peak_rpm                   201 non-null float64\n",
      "city_mpg                   201 non-null float64\n",
      "highway_mpg                201 non-null float64\n",
      "price                      201 non-null float64\n",
      "target                     201 non-null float64\n",
      "make_honda                 201 non-null uint8\n",
      "make_mazda                 201 non-null uint8\n",
      "make_mitsubishi            201 non-null uint8\n",
      "make_nissan                201 non-null uint8\n",
      "make_others                201 non-null uint8\n",
      "make_peugot                201 non-null uint8\n",
      "make_subaru                201 non-null uint8\n",
      "make_toyota                201 non-null uint8\n",
      "make_volkswagen            201 non-null uint8\n",
      "make_volvo                 201 non-null uint8\n",
      "fuel_type_diesel           201 non-null uint8\n",
      "fuel_type_gas              201 non-null uint8\n",
      "aspiration_std             201 non-null uint8\n",
      "aspiration_turbo           201 non-null uint8\n",
      "num_of_doors_four          201 non-null uint8\n",
      "num_of_doors_two           201 non-null uint8\n",
      "body_style_hatchback       201 non-null uint8\n",
      "body_style_others          201 non-null uint8\n",
      "body_style_sedan           201 non-null uint8\n",
      "body_style_wagon           201 non-null uint8\n",
      "drive_wheels_4wd           201 non-null uint8\n",
      "drive_wheels_fwd           201 non-null uint8\n",
      "drive_wheels_rwd           201 non-null uint8\n",
      "engine_location_front      201 non-null uint8\n",
      "engine_location_rear       201 non-null uint8\n",
      "engine_type_dohc           201 non-null uint8\n",
      "engine_type_l              201 non-null uint8\n",
      "engine_type_ohc            201 non-null uint8\n",
      "engine_type_ohcf           201 non-null uint8\n",
      "engine_type_ohcv           201 non-null uint8\n",
      "engine_type_rotor          201 non-null uint8\n",
      "num_of_cylinders_five      201 non-null uint8\n",
      "num_of_cylinders_four      201 non-null uint8\n",
      "num_of_cylinders_others    201 non-null uint8\n",
      "num_of_cylinders_six       201 non-null uint8\n",
      "fuel_system_1bbl           201 non-null uint8\n",
      "fuel_system_2bbl           201 non-null uint8\n",
      "fuel_system_idi            201 non-null uint8\n",
      "fuel_system_mpfi           201 non-null uint8\n",
      "fuel_system_others         201 non-null uint8\n",
      "dtypes: float64(17), uint8(40)\n",
      "memory usage: 34.6 KB\n"
     ]
    }
   ],
   "source": [
    "# Making dummy variables from the categorical variables now:\n",
    "autodata1 = pd.get_dummies(autodata)\n",
    "autodata1.info()"
   ]
  },
  {
   "cell_type": "code",
   "execution_count": 38,
   "metadata": {
    "collapsed": true
   },
   "outputs": [],
   "source": [
    "# Removing 'symbol' here:  (For this use case)\n",
    "autodata1 = autodata1.drop('symbol', 1)"
   ]
  },
  {
   "cell_type": "code",
   "execution_count": 39,
   "metadata": {},
   "outputs": [
    {
     "data": {
      "text/plain": [
       "Series([], dtype: int64)"
      ]
     },
     "execution_count": 39,
     "metadata": {},
     "output_type": "execute_result"
    }
   ],
   "source": [
    "# Checking for any NULL values as of now\n",
    "null_vals = autodata1.isnull().sum()\n",
    "null_vals[null_vals>0]"
   ]
  },
  {
   "cell_type": "code",
   "execution_count": 40,
   "metadata": {
    "collapsed": true
   },
   "outputs": [],
   "source": [
    "auto_y = autodata1[['target']]\n",
    "# target1 = auto_y\n",
    "auto_x= autodata1[[x for x in autodata1.columns if x not in 'target']]"
   ]
  },
  {
   "cell_type": "code",
   "execution_count": 41,
   "metadata": {},
   "outputs": [
    {
     "name": "stdout",
     "output_type": "stream",
     "text": [
      "(201, 1)\n",
      "(201, 55)\n"
     ]
    }
   ],
   "source": [
    "print (auto_y.shape)\n",
    "print (auto_x.shape)"
   ]
  },
  {
   "cell_type": "code",
   "execution_count": 42,
   "metadata": {
    "collapsed": true
   },
   "outputs": [],
   "source": [
    "auto_y.to_csv('auto_y.csv')\n",
    "auto_x.to_csv('auto_x.csv')"
   ]
  },
  {
   "cell_type": "code",
   "execution_count": null,
   "metadata": {
    "collapsed": true
   },
   "outputs": [],
   "source": []
  }
 ],
 "metadata": {
  "kernelspec": {
   "display_name": "Python (tensorflow-gpu)",
   "language": "python",
   "name": "tensorflow-gpu"
  },
  "language_info": {
   "codemirror_mode": {
    "name": "ipython",
    "version": 3
   },
   "file_extension": ".py",
   "mimetype": "text/x-python",
   "name": "python",
   "nbconvert_exporter": "python",
   "pygments_lexer": "ipython3",
   "version": "3.6.3"
  }
 },
 "nbformat": 4,
 "nbformat_minor": 2
}
